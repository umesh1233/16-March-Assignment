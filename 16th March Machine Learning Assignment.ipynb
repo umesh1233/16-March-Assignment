{
 "cells": [
  {
   "cell_type": "markdown",
   "id": "cca83b66-3624-48b6-bccd-0ba264d11667",
   "metadata": {},
   "source": [
    "# Question 1."
   ]
  },
  {
   "cell_type": "code",
   "execution_count": null,
   "id": "c929dfb8-547c-40b4-987a-97af6a11e123",
   "metadata": {},
   "outputs": [],
   "source": [
    "# Answer :-\n",
    "Overfitting models produce good predictions for data points in the training set but perform poorly on new samples.\n",
    "Underfitting occurs when the machine learning model is not well-tuned to the training set. \n",
    "The resulting model is not capturing the relationship between input and output well enough."
   ]
  },
  {
   "cell_type": "markdown",
   "id": "3e4b1518-41ac-49e4-8f7f-436790c4371c",
   "metadata": {},
   "source": [
    "# Question 2."
   ]
  },
  {
   "cell_type": "code",
   "execution_count": null,
   "id": "52978e77-cce7-48f6-a116-621070ae29ec",
   "metadata": {},
   "outputs": [],
   "source": [
    "# Answer:-\n",
    "Early stopping. Early stopping pauses the training phase before the machine learning model learns the noise in the data. \n",
    "Pruning. You might identify several features or parameters that impact the final prediction when you build a model. \n",
    "Regularization. \n",
    "Ensembling. \n",
    "Data augmentation."
   ]
  },
  {
   "cell_type": "markdown",
   "id": "8d37581d-998e-483c-aabc-3a6e46d09d82",
   "metadata": {},
   "source": [
    "# Question 3."
   ]
  },
  {
   "cell_type": "code",
   "execution_count": null,
   "id": "89e4c60f-9b12-47a8-b8c5-cf71eb7835d7",
   "metadata": {},
   "outputs": [],
   "source": [
    "# Answer :-\n",
    "Underfitting:- Underfitting is a scenario in data science where a data model is unable to capture the relationship between the input and output variables\n",
    "accurately, generating a high error rate on both the training set and unseen data.\n",
    "\n",
    "Underfitting occurs when your model produces accurate but inaccurate predictions at first. In this scenario, the training error is substantial,\n",
    "as is the validation/test error. Overfitting occurs when your model fails to generate correct predictions."
   ]
  },
  {
   "cell_type": "markdown",
   "id": "520526a5-4756-479f-8c4c-4c7dccdc14fd",
   "metadata": {},
   "source": [
    "# Qustions 4."
   ]
  },
  {
   "cell_type": "code",
   "execution_count": null,
   "id": "52e24ee1-8221-49ba-88fa-e21262180656",
   "metadata": {},
   "outputs": [],
   "source": [
    "# Answer :-\n",
    "In statistics and machine learning, the bias–variance tradeoff describes the relationship between a models complexity, the accuracy of\n",
    "its predictions, and how well it can make predictions on previously unseen data that were not used to train the model.\n",
    "\n",
    "The relationship between bias andvariance, and how do they affect model performance,\n",
    "To summarise, A model with a high bias error underfits data and makes very simplistic assumptions on it. A model with a high variance error\n",
    "overfits the data and learns too much from it. A good model is where both Bias and Variance errors are balanced."
   ]
  },
  {
   "cell_type": "markdown",
   "id": "2fa1a06e-f1fc-42bc-85be-185111c94355",
   "metadata": {},
   "source": [
    "# Question 5."
   ]
  },
  {
   "cell_type": "code",
   "execution_count": null,
   "id": "a7cc3594-e018-454d-b21d-3319c4370f75",
   "metadata": {},
   "outputs": [],
   "source": [
    "# Answer :-\n",
    "We can determine whether a predictive model is underfitting or overfitting the training data by looking at the prediction error on the training\n",
    "data and the evaluation data. Your model is underfitting the training data when the model performs poorly on the training data.\n",
    "\n",
    "We can determine whether a predictive model is underfitting or overfitting the training data by looking at the prediction erroron the training \n",
    "data and the evaluation data. Your model is underfitting the training data when the model performs poorly on the training data."
   ]
  },
  {
   "cell_type": "markdown",
   "id": "976a5699-360e-4e06-8943-3fcf896716fb",
   "metadata": {},
   "source": [
    "# Question 6."
   ]
  },
  {
   "cell_type": "code",
   "execution_count": null,
   "id": "1fc94d7d-9830-447c-8257-b54f1cd31c8a",
   "metadata": {},
   "outputs": [],
   "source": [
    "# Answer :-\n",
    "Variance is the very opposite of Bias. During training, it allows our model to 'see' the data a certain number of times to find \n",
    "patterns in it. If it does not work on the data for long enough, it will not find patterns and bias occurs.\n",
    "\n",
    "The high-bias model will not be able to capture the dataset trend. It is considered as the underfitting model which has a high error rate. \n",
    "It is due to a very simplified algorithm. For example, a linear regression model may have a high bias if the data has a non-linear relationship."
   ]
  },
  {
   "cell_type": "markdown",
   "id": "83faf240-9456-41f2-ba9d-d4c3f4efbc40",
   "metadata": {},
   "source": [
    "# Question 7."
   ]
  },
  {
   "cell_type": "code",
   "execution_count": null,
   "id": "5eafe55c-c869-48a2-a44c-60a2e3dc2994",
   "metadata": {},
   "outputs": [],
   "source": [
    "# Answer :-\n",
    "In short, Regularization in machine learning is the process of regularizing the parameters that constrain, regularizes, or shrinks the coefficient \n",
    "estimates towards zero. In other words, this technique discourages learning a more complex or flexible model, avoiding the risk of Overfitting.\n",
    "\n",
    "Regularization methods such as L1 and L2 regularization, dropout, and batch normalization help control model complexity and improve its ability\n",
    "to generalize to unseen data."
   ]
  }
 ],
 "metadata": {
  "kernelspec": {
   "display_name": "Python 3 (ipykernel)",
   "language": "python",
   "name": "python3"
  },
  "language_info": {
   "codemirror_mode": {
    "name": "ipython",
    "version": 3
   },
   "file_extension": ".py",
   "mimetype": "text/x-python",
   "name": "python",
   "nbconvert_exporter": "python",
   "pygments_lexer": "ipython3",
   "version": "3.10.8"
  }
 },
 "nbformat": 4,
 "nbformat_minor": 5
}
